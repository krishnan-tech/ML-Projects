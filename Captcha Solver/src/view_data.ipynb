{
 "cells": [
  {
   "cell_type": "code",
   "execution_count": 7,
   "id": "8035a990",
   "metadata": {},
   "outputs": [],
   "source": [
    "import os\n",
    "import glob\n",
    "\n",
    "import torch\n",
    "\n",
    "import numpy as np\n",
    "from sklearn import preprocessing\n",
    "from sklearn import metrics\n",
    "from sklearn import model_selection\n",
    "\n",
    "import config\n",
    "import dataset\n",
    "\n",
    "import matplotlib.pyplot as plt\n",
    "%matplotlib inline"
   ]
  },
  {
   "cell_type": "code",
   "execution_count": 8,
   "id": "5b8a32be",
   "metadata": {},
   "outputs": [],
   "source": [
    "image_files = glob.glob(os.path.join(config.DATA_DIR, \"*.png\"))\n",
    "# print(image_files)\n",
    "\n",
    "# \"../../..\\\\abcde.png\" -> \"abced\"\n",
    "targets_orig = [x.split(\"\\\\\")[-1][:-4] for x in image_files]\n",
    "\n",
    "# \"abcde\" -> [a, b, c, d, e ]\n",
    "targets = [[c for c in x] for x in targets_orig]\n",
    "\n",
    "target_flat = [c for clist in targets for c in clist]\n",
    "\n",
    "lbl_enc = preprocessing.LabelEncoder()\n",
    "lbl_enc.fit(target_flat)\n",
    "\n",
    "targets_enc = [lbl_enc.transform(x) for x in targets]\n",
    "targets_enc = np.array(targets_enc) + 1\n",
    "\n",
    "# print(targets_enc)\n",
    "train_imgs, test_imgs, train_targets, test_targets, train_orig_targets, test_orig_targets = model_selection.train_test_split(\n",
    "    image_files, targets_enc, targets_orig, test_size=0.1, random_state=42)\n"
   ]
  },
  {
   "cell_type": "code",
   "execution_count": 9,
   "id": "0d04c6b4",
   "metadata": {},
   "outputs": [],
   "source": [
    "data_ = dataset.ClassificationDataset(\n",
    "    image_paths=train_imgs,\n",
    "    targets=train_targets\n",
    ")\n",
    "# print(data_.__len__())\n",
    "# print(data_.__getitem__(1))"
   ]
  },
  {
   "cell_type": "code",
   "execution_count": 10,
   "id": "b80dbddc",
   "metadata": {},
   "outputs": [
    {
     "data": {
      "text/plain": [
       "<dataset.ClassificationDataset at 0x1dfa33bb948>"
      ]
     },
     "execution_count": 10,
     "metadata": {},
     "output_type": "execute_result"
    }
   ],
   "source": [
    "train_dataset = dataset.ClassificationDataset(\n",
    "    image_paths=train_imgs, \n",
    "    targets=train_targets, \n",
    "    resize=(config.IMAGE_HEIGHT, config.IMAGE_WIDTH)\n",
    ")\n",
    "train_dataset"
   ]
  },
  {
   "cell_type": "code",
   "execution_count": 15,
   "id": "55af0e19",
   "metadata": {},
   "outputs": [
    {
     "name": "stdout",
     "output_type": "stream",
     "text": [
      "0\n"
     ]
    },
    {
     "data": {
      "text/plain": [
       "(3, 75, 300)"
      ]
     },
     "execution_count": 15,
     "metadata": {},
     "output_type": "execute_result"
    }
   ],
   "source": [
    "npimg = train_dataset[0]['images'].numpy()\n",
    "npimg.shape"
   ]
  },
  {
   "cell_type": "code",
   "execution_count": 19,
   "id": "7d2a9a4a",
   "metadata": {},
   "outputs": [
    {
     "name": "stderr",
     "output_type": "stream",
     "text": [
      "Clipping input data to the valid range for imshow with RGB data ([0..1] for floats or [0..255] for integers).\n"
     ]
    },
    {
     "data": {
      "text/plain": [
       "<matplotlib.image.AxesImage at 0x1dfa3698448>"
      ]
     },
     "execution_count": 19,
     "metadata": {},
     "output_type": "execute_result"
    },
    {
     "data": {
      "image/png": "[encoded data removed]",
      "text/plain": [
       "<Figure size 432x288 with 1 Axes>"
      ]
     },
     "metadata": {
      "needs_background": "light"
     },
     "output_type": "display_data"
    }
   ],
   "source": [
    "plt.imshow(np.transpose(npimg, (1, 2, 0)))"
   ]
  },
  {
   "cell_type": "code",
   "execution_count": null,
   "id": "b79677e5",
   "metadata": {},
   "outputs": [],
   "source": []
  }
 ],
 "metadata": {
  "kernelspec": {
   "display_name": "Python 3",
   "language": "python",
   "name": "python3"
  },
  "language_info": {
   "codemirror_mode": {
    "name": "ipython",
    "version": 3
   },
   "file_extension": ".py",
   "mimetype": "text/x-python",
   "name": "python",
   "nbconvert_exporter": "python",
   "pygments_lexer": "ipython3",
   "version": "3.7.6"
  }
 },
 "nbformat": 4,
 "nbformat_minor": 5
}
